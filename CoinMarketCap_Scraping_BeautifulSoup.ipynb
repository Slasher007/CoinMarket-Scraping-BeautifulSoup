{
  "nbformat": 4,
  "nbformat_minor": 0,
  "metadata": {
    "colab": {
      "name": "CoinMarketCap_Scraping_BeautifulSoup",
      "provenance": [],
      "authorship_tag": "ABX9TyOO+P3P+1QqqK6wqPeizugH",
      "include_colab_link": true
    },
    "kernelspec": {
      "name": "python3",
      "display_name": "Python 3"
    },
    "language_info": {
      "name": "python"
    }
  },
  "cells": [
    {
      "cell_type": "markdown",
      "metadata": {
        "id": "view-in-github",
        "colab_type": "text"
      },
      "source": [
        "<a href=\"https://colab.research.google.com/github/SHA256Coin/CoinMarket-Scraping-BeautifulSoup/blob/main/CoinMarketCap_Scraping_BeautifulSoup.ipynb\" target=\"_parent\"><img src=\"https://colab.research.google.com/assets/colab-badge.svg\" alt=\"Open In Colab\"/></a>"
      ]
    },
    {
      "cell_type": "code",
      "metadata": {
        "id": "5Bzkffmbi9P2"
      },
      "source": [
        "import requests\n",
        "import pandas as pd\n",
        "from bs4 import BeautifulSoup as bs\n",
        "import time\n",
        "from IPython.core.display import clear_output\n",
        "from IPython.display import HTML,display\n",
        "import collections\n",
        "import matplotlib.pyplot as plt"
      ],
      "execution_count": 1,
      "outputs": []
    },
    {
      "cell_type": "code",
      "metadata": {
        "id": "y6l7OAY7jNOH"
      },
      "source": [
        "#La cible\n",
        "url = \"https://coinmarketcap.com/\""
      ],
      "execution_count": 2,
      "outputs": []
    },
    {
      "cell_type": "markdown",
      "metadata": {
        "id": "S6KIfKG6tJtD"
      },
      "source": [
        "#Extraction des données top 10 CoinMarketCap\n"
      ]
    },
    {
      "cell_type": "code",
      "metadata": {
        "id": "FL2HmNHIjoZg"
      },
      "source": [
        "#Extraire les details du crypto\n",
        "def get_details_coin(soup):\n",
        "  \n",
        "    coin = {}\n",
        "    all_td = soup.find_all('td')\n",
        "    coin['Numero'] = all_td[1].text\n",
        "    coin['Name'] = all_td[2].find('p').text\n",
        "    coin['Price'] = all_td[3].text\n",
        "    coin['Change 24h'] = all_td[4].text\n",
        "    #coin['Last 7 day'] = None\n",
        "    coin['Last_7_day'] = all_td[9].find('img')[\"src\"]\n",
        "\n",
        "    return coin"
      ],
      "execution_count": 3,
      "outputs": []
    },
    {
      "cell_type": "code",
      "metadata": {
        "id": "H4ltdtWSkJRf"
      },
      "source": [
        "#Création du DataFrame\n",
        "def get_df(soup,top):\n",
        "\n",
        "    df = pd.DataFrame(columns=['Numero','Name','Price','Change 24h','Last_7_day'])\n",
        "\n",
        "    all_tr = soup.find('tbody').find_all('tr')\n",
        "\n",
        "    for i in range (0,top):\n",
        "        details_coin = get_details_coin(all_tr[i])\n",
        "        coin = pd.DataFrame.from_dict([details_coin])\n",
        "        df = df.append(coin,ignore_index=True)\n",
        "        \n",
        "    return df"
      ],
      "execution_count": 4,
      "outputs": []
    },
    {
      "cell_type": "code",
      "metadata": {
        "colab": {
          "base_uri": "https://localhost:8080/",
          "height": 404
        },
        "id": "LmO00dR3r46E",
        "outputId": "4fabd341-71fe-47b2-da80-3344e970ca15"
      },
      "source": [
        "# Pour l'affichage des graphiques \n",
        "def path_to_image_html(path):\n",
        "    return '<img src=\"'+ path + '\" width=\"60\" >'\n",
        "\n",
        "#Affichage en temps-réel des Top 10 Coin-MarketCap (10 seconde d'intervalle)\n",
        "while(True):\n",
        "    r = requests.get(url)\n",
        "    soup = bs(r.content,'html.parser')\n",
        "    df = get_df(soup,10)\n",
        "    #Convert Columns Last_7_Day to dict\n",
        "    graphics = dict(zip(df.index, df.Last_7_day))\n",
        "\n",
        "    # map images to team, base on keys\n",
        "    df['Last_7_day'] = df.index.map(graphics)\n",
        "    display(HTML(df.to_html(escape=False, formatters=dict(Last_7_day=path_to_image_html))))\n",
        "    #print(df)\n",
        "    time.sleep(10)\n",
        "    clear_output()\n"
      ],
      "execution_count": null,
      "outputs": [
        {
          "output_type": "display_data",
          "data": {
            "text/html": [
              "<table border=\"1\" class=\"dataframe\">\n",
              "  <thead>\n",
              "    <tr style=\"text-align: right;\">\n",
              "      <th></th>\n",
              "      <th>Numero</th>\n",
              "      <th>Name</th>\n",
              "      <th>Price</th>\n",
              "      <th>Change 24h</th>\n",
              "      <th>Last_7_day</th>\n",
              "    </tr>\n",
              "  </thead>\n",
              "  <tbody>\n",
              "    <tr>\n",
              "      <th>0</th>\n",
              "      <td>1</td>\n",
              "      <td>Bitcoin</td>\n",
              "      <td>$61,620.97</td>\n",
              "      <td>4.62%</td>\n",
              "      <td><img src=\"https://s3.coinmarketcap.com/generated/sparklines/web/7d/2781/1.svg\" width=\"60\" ></td>\n",
              "    </tr>\n",
              "    <tr>\n",
              "      <th>1</th>\n",
              "      <td>2</td>\n",
              "      <td>Ethereum</td>\n",
              "      <td>$4,263.83</td>\n",
              "      <td>7.12%</td>\n",
              "      <td><img src=\"https://s3.coinmarketcap.com/generated/sparklines/web/7d/2781/1027.svg\" width=\"60\" ></td>\n",
              "    </tr>\n",
              "    <tr>\n",
              "      <th>2</th>\n",
              "      <td>3</td>\n",
              "      <td>Binance Coin</td>\n",
              "      <td>$491.68</td>\n",
              "      <td>8.88%</td>\n",
              "      <td><img src=\"https://s3.coinmarketcap.com/generated/sparklines/web/7d/2781/1839.svg\" width=\"60\" ></td>\n",
              "    </tr>\n",
              "    <tr>\n",
              "      <th>3</th>\n",
              "      <td>4</td>\n",
              "      <td>Tether</td>\n",
              "      <td>$1.00</td>\n",
              "      <td>0.03%</td>\n",
              "      <td><img src=\"https://s3.coinmarketcap.com/generated/sparklines/web/7d/2781/825.svg\" width=\"60\" ></td>\n",
              "    </tr>\n",
              "    <tr>\n",
              "      <th>4</th>\n",
              "      <td>5</td>\n",
              "      <td>Cardano</td>\n",
              "      <td>$2.02</td>\n",
              "      <td>4.07%</td>\n",
              "      <td><img src=\"https://s3.coinmarketcap.com/generated/sparklines/web/7d/2781/2010.svg\" width=\"60\" ></td>\n",
              "    </tr>\n",
              "    <tr>\n",
              "      <th>5</th>\n",
              "      <td>6</td>\n",
              "      <td>Solana</td>\n",
              "      <td>$198.78</td>\n",
              "      <td>5.56%</td>\n",
              "      <td><img src=\"https://s3.coinmarketcap.com/generated/sparklines/web/7d/2781/5426.svg\" width=\"60\" ></td>\n",
              "    </tr>\n",
              "    <tr>\n",
              "      <th>6</th>\n",
              "      <td>7</td>\n",
              "      <td>XRP</td>\n",
              "      <td>$1.07</td>\n",
              "      <td>5.55%</td>\n",
              "      <td><img src=\"https://s3.coinmarketcap.com/generated/sparklines/web/7d/2781/52.svg\" width=\"60\" ></td>\n",
              "    </tr>\n",
              "    <tr>\n",
              "      <th>7</th>\n",
              "      <td>8</td>\n",
              "      <td>Polkadot</td>\n",
              "      <td>$42.65</td>\n",
              "      <td>5.39%</td>\n",
              "      <td><img src=\"https://s3.coinmarketcap.com/generated/sparklines/web/7d/2781/6636.svg\" width=\"60\" ></td>\n",
              "    </tr>\n",
              "    <tr>\n",
              "      <th>8</th>\n",
              "      <td>9</td>\n",
              "      <td>Dogecoin</td>\n",
              "      <td>$0.3028</td>\n",
              "      <td>25.78%</td>\n",
              "      <td><img src=\"https://s3.coinmarketcap.com/generated/sparklines/web/7d/2781/74.svg\" width=\"60\" ></td>\n",
              "    </tr>\n",
              "    <tr>\n",
              "      <th>9</th>\n",
              "      <td>10</td>\n",
              "      <td>SHIBA INU</td>\n",
              "      <td>$0.00006275</td>\n",
              "      <td>21.05%</td>\n",
              "      <td><img src=\"https://s3.coinmarketcap.com/generated/sparklines/web/7d/2781/5994.svg\" width=\"60\" ></td>\n",
              "    </tr>\n",
              "  </tbody>\n",
              "</table>"
            ],
            "text/plain": [
              "<IPython.core.display.HTML object>"
            ]
          },
          "metadata": {}
        }
      ]
    },
    {
      "cell_type": "markdown",
      "metadata": {
        "id": "RAqZ6C0utYSq"
      },
      "source": [
        "#Debug & test"
      ]
    },
    {
      "cell_type": "code",
      "metadata": {
        "id": "C4c21YxnyD-B"
      },
      "source": [
        "df = get_df(soup,10)\n",
        "df"
      ],
      "execution_count": null,
      "outputs": []
    },
    {
      "cell_type": "code",
      "metadata": {
        "id": "gxwJGTYroXYF"
      },
      "source": [
        "all_tr = soup.find('tbody').find_all('tr')"
      ],
      "execution_count": null,
      "outputs": []
    },
    {
      "cell_type": "code",
      "metadata": {
        "id": "X885g92_riOq"
      },
      "source": [
        "all_tr[1]"
      ],
      "execution_count": null,
      "outputs": []
    },
    {
      "cell_type": "code",
      "metadata": {
        "id": "B7jaexvjlkUD"
      },
      "source": [
        "soup.find('tbody').find_all('td')[2].text"
      ],
      "execution_count": null,
      "outputs": []
    },
    {
      "cell_type": "code",
      "metadata": {
        "id": "YSFzpc9YoGFV"
      },
      "source": [
        "graphic = soup.find('tbody').find_all('tr')[4].find_all('td')[9].find('img')[\"src\"]\n",
        "graphic"
      ],
      "execution_count": null,
      "outputs": []
    }
  ]
}